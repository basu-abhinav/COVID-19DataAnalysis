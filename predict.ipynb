{
 "metadata": {
  "language_info": {
   "codemirror_mode": {
    "name": "ipython",
    "version": 3
   },
   "file_extension": ".py",
   "mimetype": "text/x-python",
   "name": "python",
   "nbconvert_exporter": "python",
   "pygments_lexer": "ipython3",
   "version": "3.9.4"
  },
  "orig_nbformat": 2,
  "kernelspec": {
   "name": "python3",
   "display_name": "Python 3",
   "language": "python"
  }
 },
 "nbformat": 4,
 "nbformat_minor": 2,
 "cells": [
  {
   "cell_type": "code",
   "execution_count": null,
   "metadata": {},
   "outputs": [],
   "source": [
    "import csv\n",
    "\n",
    "file = open(\"owid-covid-data.csv\",\"r\")\n",
    "\n",
    "csv_file = csv.reader(file)\n",
    "\n",
    "fields = next(csv_file)\n",
    "\n",
    "dataset = []\n",
    "\n",
    "for row in csv_file:\n",
    "    dataset.append(row)"
   ]
  },
  {
   "cell_type": "code",
   "execution_count": null,
   "metadata": {},
   "outputs": [],
   "source": [
    "for i in range(len(dataset)):\n",
    "    for j in range(len(dataset[i])):\n",
    "        if dataset[i][j] == \"\":\n",
    "            dataset[i][j] = 0"
   ]
  },
  {
   "cell_type": "code",
   "execution_count": null,
   "metadata": {},
   "outputs": [],
   "source": [
    "for i in range(len(dataset)):\n",
    "    for j in range(1,len(dataset[i])):\n",
    "        dataset[i][j] = float(dataset[i][j])"
   ]
  },
  {
   "cell_type": "code",
   "execution_count": 95,
   "metadata": {},
   "outputs": [],
   "source": [
    "import pandas as pd\n",
    "\n",
    "df = pd.read_csv('owid-covid-data.csv')"
   ]
  },
  {
   "source": [
    "df.fillna(value=0,inplace=True)"
   ],
   "cell_type": "code",
   "metadata": {},
   "execution_count": 96,
   "outputs": []
  },
  {
   "source": [
    "df['date'] = pd.to_datetime(df['date'])    \n",
    "df['date_delta'] = (df['date'] - df['date'].min())"
   ],
   "cell_type": "markdown",
   "metadata": {}
  },
  {
   "source": [
    "df.head()"
   ],
   "cell_type": "code",
   "metadata": {},
   "execution_count": 83,
   "outputs": [
    {
     "output_type": "execute_result",
     "data": {
      "text/plain": [
       "        date  total_cases  new_cases  total_deaths  new_deaths  \\\n",
       "0 2020-01-22          1.0        0.0           0.0         0.0   \n",
       "1 2020-01-23          1.0        0.0           0.0         0.0   \n",
       "2 2020-01-24          2.0        1.0           0.0         0.0   \n",
       "3 2020-01-25          2.0        0.0           0.0         0.0   \n",
       "4 2020-01-26          5.0        3.0           0.0         0.0   \n",
       "\n",
       "   reproduction_rate  icu_patients  hosp_patients  weekly_icu_admissions  \\\n",
       "0                0.0           0.0            0.0                    0.0   \n",
       "1                0.0           0.0            0.0                    0.0   \n",
       "2                0.0           0.0            0.0                    0.0   \n",
       "3                0.0           0.0            0.0                    0.0   \n",
       "4                0.0           0.0            0.0                    0.0   \n",
       "\n",
       "   weekly_hosp_admissions  ...  ConfirmedDeaths  StringencyIndex  \\\n",
       "0                     0.0  ...              0.0              0.0   \n",
       "1                     0.0  ...              0.0              0.0   \n",
       "2                     0.0  ...              0.0              0.0   \n",
       "3                     0.0  ...              0.0              0.0   \n",
       "4                     0.0  ...              0.0              0.0   \n",
       "\n",
       "   StringencyIndexForDisplay  StringencyLegacyIndex  \\\n",
       "0                        0.0                    0.0   \n",
       "1                        0.0                    0.0   \n",
       "2                        0.0                    0.0   \n",
       "3                        0.0                    0.0   \n",
       "4                        0.0                    0.0   \n",
       "\n",
       "   StringencyLegacyIndexForDisplay  GovernmentResponseIndex  \\\n",
       "0                              0.0                     3.12   \n",
       "1                              0.0                     3.12   \n",
       "2                              0.0                     3.12   \n",
       "3                              0.0                     3.12   \n",
       "4                              0.0                     3.12   \n",
       "\n",
       "   GovernmentResponseIndexForDisplay  ContainmentHealthIndex  \\\n",
       "0                               3.12                    3.57   \n",
       "1                               3.12                    3.57   \n",
       "2                               3.12                    3.57   \n",
       "3                               3.12                    3.57   \n",
       "4                               3.12                    3.57   \n",
       "\n",
       "   ContainmentHealthIndexForDisplay  date_delta  \n",
       "0                              3.57  18283 days  \n",
       "1                              3.57  18284 days  \n",
       "2                              3.57  18285 days  \n",
       "3                              3.57  18286 days  \n",
       "4                              3.57  18287 days  \n",
       "\n",
       "[5 rows x 49 columns]"
      ],
      "text/html": "<div>\n<style scoped>\n    .dataframe tbody tr th:only-of-type {\n        vertical-align: middle;\n    }\n\n    .dataframe tbody tr th {\n        vertical-align: top;\n    }\n\n    .dataframe thead th {\n        text-align: right;\n    }\n</style>\n<table border=\"1\" class=\"dataframe\">\n  <thead>\n    <tr style=\"text-align: right;\">\n      <th></th>\n      <th>date</th>\n      <th>total_cases</th>\n      <th>new_cases</th>\n      <th>total_deaths</th>\n      <th>new_deaths</th>\n      <th>reproduction_rate</th>\n      <th>icu_patients</th>\n      <th>hosp_patients</th>\n      <th>weekly_icu_admissions</th>\n      <th>weekly_hosp_admissions</th>\n      <th>...</th>\n      <th>ConfirmedDeaths</th>\n      <th>StringencyIndex</th>\n      <th>StringencyIndexForDisplay</th>\n      <th>StringencyLegacyIndex</th>\n      <th>StringencyLegacyIndexForDisplay</th>\n      <th>GovernmentResponseIndex</th>\n      <th>GovernmentResponseIndexForDisplay</th>\n      <th>ContainmentHealthIndex</th>\n      <th>ContainmentHealthIndexForDisplay</th>\n      <th>date_delta</th>\n    </tr>\n  </thead>\n  <tbody>\n    <tr>\n      <th>0</th>\n      <td>2020-01-22</td>\n      <td>1.0</td>\n      <td>0.0</td>\n      <td>0.0</td>\n      <td>0.0</td>\n      <td>0.0</td>\n      <td>0.0</td>\n      <td>0.0</td>\n      <td>0.0</td>\n      <td>0.0</td>\n      <td>...</td>\n      <td>0.0</td>\n      <td>0.0</td>\n      <td>0.0</td>\n      <td>0.0</td>\n      <td>0.0</td>\n      <td>3.12</td>\n      <td>3.12</td>\n      <td>3.57</td>\n      <td>3.57</td>\n      <td>18283 days</td>\n    </tr>\n    <tr>\n      <th>1</th>\n      <td>2020-01-23</td>\n      <td>1.0</td>\n      <td>0.0</td>\n      <td>0.0</td>\n      <td>0.0</td>\n      <td>0.0</td>\n      <td>0.0</td>\n      <td>0.0</td>\n      <td>0.0</td>\n      <td>0.0</td>\n      <td>...</td>\n      <td>0.0</td>\n      <td>0.0</td>\n      <td>0.0</td>\n      <td>0.0</td>\n      <td>0.0</td>\n      <td>3.12</td>\n      <td>3.12</td>\n      <td>3.57</td>\n      <td>3.57</td>\n      <td>18284 days</td>\n    </tr>\n    <tr>\n      <th>2</th>\n      <td>2020-01-24</td>\n      <td>2.0</td>\n      <td>1.0</td>\n      <td>0.0</td>\n      <td>0.0</td>\n      <td>0.0</td>\n      <td>0.0</td>\n      <td>0.0</td>\n      <td>0.0</td>\n      <td>0.0</td>\n      <td>...</td>\n      <td>0.0</td>\n      <td>0.0</td>\n      <td>0.0</td>\n      <td>0.0</td>\n      <td>0.0</td>\n      <td>3.12</td>\n      <td>3.12</td>\n      <td>3.57</td>\n      <td>3.57</td>\n      <td>18285 days</td>\n    </tr>\n    <tr>\n      <th>3</th>\n      <td>2020-01-25</td>\n      <td>2.0</td>\n      <td>0.0</td>\n      <td>0.0</td>\n      <td>0.0</td>\n      <td>0.0</td>\n      <td>0.0</td>\n      <td>0.0</td>\n      <td>0.0</td>\n      <td>0.0</td>\n      <td>...</td>\n      <td>0.0</td>\n      <td>0.0</td>\n      <td>0.0</td>\n      <td>0.0</td>\n      <td>0.0</td>\n      <td>3.12</td>\n      <td>3.12</td>\n      <td>3.57</td>\n      <td>3.57</td>\n      <td>18286 days</td>\n    </tr>\n    <tr>\n      <th>4</th>\n      <td>2020-01-26</td>\n      <td>5.0</td>\n      <td>3.0</td>\n      <td>0.0</td>\n      <td>0.0</td>\n      <td>0.0</td>\n      <td>0.0</td>\n      <td>0.0</td>\n      <td>0.0</td>\n      <td>0.0</td>\n      <td>...</td>\n      <td>0.0</td>\n      <td>0.0</td>\n      <td>0.0</td>\n      <td>0.0</td>\n      <td>0.0</td>\n      <td>3.12</td>\n      <td>3.12</td>\n      <td>3.57</td>\n      <td>3.57</td>\n      <td>18287 days</td>\n    </tr>\n  </tbody>\n</table>\n<p>5 rows × 49 columns</p>\n</div>"
     },
     "metadata": {},
     "execution_count": 83
    }
   ]
  },
  {
   "source": [
    "X = df.drop('date',axis=1)\n",
    "y = df.drop('date',axis=1)['new_cases']"
   ],
   "cell_type": "code",
   "metadata": {},
   "execution_count": 97,
   "outputs": []
  },
  {
   "cell_type": "code",
   "execution_count": 110,
   "metadata": {},
   "outputs": [],
   "source": [
    "from sklearn.model_selection import train_test_split\n",
    "\n",
    "X_train,X_val,y_train,y_val = train_test_split(X,y,test_size=0.1)"
   ]
  },
  {
   "cell_type": "code",
   "execution_count": 113,
   "metadata": {},
   "outputs": [],
   "source": [
    "from sklearn.ensemble import RandomForestRegressor\n",
    "from sklearn.neural_network import MLPRegressor\n",
    "from sklearn.model_selection import TimeSeriesSplit\n",
    "from sklearn.model_selection import GridSearchCV\n",
    "from sklearn.metrics import mean_squared_error\n",
    "\n",
    "clf = RandomForestRegressor().fit(X_train,y_train)\n",
    "\n",
    "y_true = y_val.values\n",
    "y_pred = clf.predict(X_val)\n",
    "\n"
   ]
  },
  {
   "cell_type": "code",
   "execution_count": 114,
   "metadata": {},
   "outputs": [
    {
     "output_type": "stream",
     "name": "stdout",
     "text": [
      "          val       pred\n366  190753.0  192457.94\n255   48535.0   48535.05\n129   23633.0   23655.43\n148   28526.0   28993.50\n270   49340.0   49013.21\n328  209006.0  210181.81\n275   81949.0   82513.94\n305  146784.0  144761.29\n392   70118.0   70343.66\n16        0.0       0.00\n365  193818.0  194892.70\n229   23567.0   23656.30\n451   52373.0   52189.91\n355  214994.0  213888.68\n167   60654.0   60337.23\n395   71525.0   71538.61\n45      166.0      88.69\n138   17637.0   17786.00\n272   61971.0   62185.36\n225   44210.0   44018.52\n153   37075.0   36515.33\n176   75820.0   75516.98\n113   26818.0   26942.54\n71    32232.0   32254.25\n397   56220.0   56341.73\n14        0.0       0.00\n20        1.0       1.02\n382   89648.0   90939.57\n400   77501.0   77252.49\n49      365.0     332.39\n375  111997.0  113581.54\n177   72261.0   72352.48\n314  188219.0  189154.46\n342  200252.0  198963.14\n387   99638.0   98597.15\n160   46430.0   46601.32\n51      633.0     553.51\n333  187819.0  187245.73\n396   57080.0   56897.11\n373  166568.0  167180.37\n424   33768.0   34052.17\n346  300310.0  268968.81\n299  162945.0  163750.85\n381  103987.0  103856.88\n233   47778.0   47708.39\n28        0.0       0.00\n222   35388.0   35639.49\n"
     ]
    }
   ],
   "source": [
    "plot_df = pd.DataFrame({\"val\":y_val,\"pred\":y_pred})\n",
    "print(plot_df)"
   ]
  },
  {
   "cell_type": "code",
   "execution_count": null,
   "metadata": {},
   "outputs": [],
   "source": []
  }
 ]
}