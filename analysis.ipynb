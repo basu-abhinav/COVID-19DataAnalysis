{
 "metadata": {
  "language_info": {
   "codemirror_mode": {
    "name": "ipython",
    "version": 3
   },
   "file_extension": ".py",
   "mimetype": "text/x-python",
   "name": "python",
   "nbconvert_exporter": "python",
   "pygments_lexer": "ipython3",
   "version": "3.9.4"
  },
  "orig_nbformat": 2,
  "kernelspec": {
   "name": "python3",
   "display_name": "Python 3",
   "language": "python"
  },
  "metadata": {
   "interpreter": {
    "hash": "e7370f93d1d0cde622a1f8e1c04877d8463912d04d973331ad4851f04de6915a"
   }
  }
 },
 "nbformat": 4,
 "nbformat_minor": 2,
 "cells": [
  {
   "cell_type": "code",
   "execution_count": 10,
   "metadata": {},
   "outputs": [],
   "source": [
    "from os import listdir\n",
    "from os.path import isfile, join\n",
    "mypath = \"./Data\"\n",
    "filenames = [f for f in listdir(mypath) if isfile(join(mypath, f))]"
   ]
  },
  {
   "cell_type": "code",
   "execution_count": 12,
   "metadata": {
    "tags": []
   },
   "outputs": [],
   "source": [
    "import csv\n",
    "from datetime import date\n",
    "\n",
    "fields = next(csv.reader(open(\"./Data/\"+filenames[0],\"r\")))\n",
    "\n",
    "daily_cumulative_data = []\n",
    "\n",
    "count = 0\n",
    "\n",
    "for filename in filenames:\n",
    "    file = open(\"./Data/\"+filename,\"r\")\n",
    "    csv_file = csv.reader(file)\n",
    "    rows = []\n",
    "    next(csv_file)\n",
    "    for row in csv_file:\n",
    "        rows.append(row)\n",
    "    confirmed = 0\n",
    "    deaths = 0\n",
    "    recovered = 0\n",
    "    active = 0\n",
    "    total_tests = 0\n",
    "    hospitalized = 0\n",
    "    for i in range(len(rows)):\n",
    "        if rows[i][5] != '':\n",
    "            confirmed = confirmed + int(rows[i][5].split(\".\")[0])\n",
    "        if rows[i][6] != '':\n",
    "            deaths = deaths + int(rows[i][6].split(\".\")[0])\n",
    "        if rows[i][7] != '':\n",
    "            recovered = recovered + int(rows[i][7].split(\".\")[0])\n",
    "        if rows[i][8] != '':\n",
    "            active = active + int(rows[i][8].split(\".\")[0])\n",
    "        if rows[i][11] != '':\n",
    "            total_tests = total_tests + int(rows[i][11].split(\".\")[0])\n",
    "        if rows[i][12] != '':\n",
    "            hospitalized = hospitalized + int(rows[i][12].split(\".\")[0])\n",
    "    date_string = filenames[count].removesuffix(\".csv\")\n",
    "    daily_cumulative_data.append([date_string.split(\"-\")[2]+ \"-\" +date_string.split(\"-\")[0]+ \"-\" +date_string.split(\"-\")[1],confirmed,deaths,recovered,active,total_tests,hospitalized])\n",
    "    count = count + 1\n",
    "\n",
    "daily_cumulative_data.sort(key=lambda x : x[0])"
   ]
  },
  {
   "cell_type": "code",
   "execution_count": 13,
   "metadata": {},
   "outputs": [],
   "source": [
    "daily_data = []\n",
    "daily_data.append(daily_cumulative_data[0])\n",
    "\n",
    "for i in range(1,len(daily_cumulative_data)):\n",
    "    temp = []\n",
    "    temp.append(daily_cumulative_data[i][0])\n",
    "    for j in range(1,len(daily_cumulative_data[i])):\n",
    "        temp.append(daily_cumulative_data[i][j]-daily_cumulative_data[i-1][j])\n",
    "    daily_data.append(temp)"
   ]
  }
 ]
}